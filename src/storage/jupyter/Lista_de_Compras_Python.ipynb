{
  "nbformat": 4,
  "nbformat_minor": 0,
  "metadata": {
    "colab": {
      "provenance": [],
      "authorship_tag": "ABX9TyNw2e2rZS60McUzLiJEDxju",
      "include_colab_link": true
    },
    "kernelspec": {
      "name": "python3",
      "display_name": "Python 3"
    },
    "language_info": {
      "name": "python"
    }
  },
  "cells": [
    {
      "cell_type": "markdown",
      "metadata": {
        "id": "view-in-github",
        "colab_type": "text"
      },
      "source": [
        "<a href=\"https://colab.research.google.com/github/DomDigon/Lista-de-Compras/blob/main/Lista_de_Compras_Python.ipynb\" target=\"_parent\"><img src=\"https://colab.research.google.com/assets/colab-badge.svg\" alt=\"Open In Colab\"/></a>"
      ]
    },
    {
      "cell_type": "code",
      "source": [
        "import pandas as pd\n",
        "import re\n",
        "\n",
        "dados = pd.read_excel('Lista de Compras.xlsx')\n",
        "\n",
        "df_pares = dados[dados.index % 2 == 0].reset_index(drop=True).copy()\n",
        "\n",
        "\n",
        "\n"
      ],
      "metadata": {
        "id": "0t404IQa_XQI"
      },
      "execution_count": 14,
      "outputs": []
    },
    {
      "cell_type": "code",
      "source": [
        "df_impares = dados[dados.index % 2 != 0].reset_index(drop=True).copy()\n",
        "\n"
      ],
      "metadata": {
        "id": "MczjuJBI_Yeo"
      },
      "execution_count": 15,
      "outputs": []
    },
    {
      "cell_type": "code",
      "source": [
        "df_pares['Valor_Linha_Impar'] = df_impares['Produto']"
      ],
      "metadata": {
        "id": "azDHulLICVCS"
      },
      "execution_count": 16,
      "outputs": []
    },
    {
      "cell_type": "code",
      "source": [],
      "metadata": {
        "id": "g-MaLwEdGgeU"
      },
      "execution_count": 16,
      "outputs": []
    },
    {
      "cell_type": "code",
      "source": [
        "text = \"Qtde.:0,542UN: KGVl. Unit.: 17,98\"\n",
        "\n",
        "padraoQtd = r'([\\d,]+)'\n",
        "padraoUn = r'UN\\s*:\\s*(.*?)\\s*Vl\\.'\n",
        "padraoVlunit = r'([\\d,]+)$'\n",
        "\n",
        "resultadoVlunit = re.findall(padraoVlunit,text)\n",
        "resultadoVlunit"
      ],
      "metadata": {
        "id": "jdUpMNeB7UM2",
        "colab": {
          "base_uri": "https://localhost:8080/"
        },
        "outputId": "c74d4460-b2b5-4acb-9c81-f329df26cd28"
      },
      "execution_count": 17,
      "outputs": [
        {
          "output_type": "execute_result",
          "data": {
            "text/plain": [
              "['17,98']"
            ]
          },
          "metadata": {},
          "execution_count": 17
        }
      ]
    },
    {
      "cell_type": "code",
      "source": [
        "df_pares['Quantidade'] = df_pares['Valor_Linha_Impar'].str.extract(padraoQtd)\n",
        "df_pares['Unidade'] = df_pares['Valor_Linha_Impar'].str.extract(padraoUn)\n",
        "df_pares['Valor Unitário'] = df_pares['Valor_Linha_Impar'].str.extract(padraoVlunit)\n"
      ],
      "metadata": {
        "id": "bpLlIzP3fJwk"
      },
      "execution_count": 18,
      "outputs": []
    },
    {
      "cell_type": "code",
      "source": [
        "df_pares['Quantidade'] = df_pares['Quantidade'].str.replace(',' , '.', regex=False).astype(float)\n",
        "df_pares['Valor Unitário'] = df_pares['Valor Unitário'].str.replace(',' , '.', regex=False).astype(float)"
      ],
      "metadata": {
        "id": "funqEyMzdvR8"
      },
      "execution_count": 19,
      "outputs": []
    },
    {
      "cell_type": "code",
      "source": [
        "dfCompras = df_pares"
      ],
      "metadata": {
        "id": "Ag6qJ2yO8h6G"
      },
      "execution_count": 20,
      "outputs": []
    },
    {
      "cell_type": "code",
      "source": [
        "dfCompras = dfCompras.drop(columns='Valor_Linha_Impar')\n"
      ],
      "metadata": {
        "id": "2eqebD5DCDxb"
      },
      "execution_count": 21,
      "outputs": []
    },
    {
      "cell_type": "code",
      "source": [
        "dfCompras['Valor Total'] = dfCompras['Valor Unitário'] * dfCompras['Quantidade']\n"
      ],
      "metadata": {
        "id": "KCE1RF4hQ_77"
      },
      "execution_count": 22,
      "outputs": []
    },
    {
      "cell_type": "code",
      "source": [
        "dfCompras.columns.tolist()\n",
        "novaordem = ['Produto', 'Quantidade', 'Unidade', 'Valor Unitário' , 'Valor Total' ,'Data das Compras' , 'Nome do mercado','Chave NFCe']"
      ],
      "metadata": {
        "id": "4OuZQAJbD_ry"
      },
      "execution_count": 23,
      "outputs": []
    },
    {
      "cell_type": "code",
      "source": [
        "dfCompras = dfCompras[novaordem]\n"
      ],
      "metadata": {
        "id": "P6Fro3nKEXEn"
      },
      "execution_count": 24,
      "outputs": []
    },
    {
      "cell_type": "code",
      "source": [
        "dfCompras['Unidade'] = dfCompras['Unidade'].astype('category')\n",
        "dfCompras['Nome do mercado'] = dfCompras['Nome do mercado'].astype('category')\n",
        "dfCompras['Chave NFCe'] = dfCompras['Chave NFCe'].astype('category')\n"
      ],
      "metadata": {
        "id": "cZ3a-jc6EZVm"
      },
      "execution_count": 25,
      "outputs": []
    },
    {
      "cell_type": "code",
      "source": [
        "dfCompras.tail(10)"
      ],
      "metadata": {
        "colab": {
          "base_uri": "https://localhost:8080/",
          "height": 502
        },
        "id": "fvQme2jbauHy",
        "outputId": "c5605458-1c14-4744-9430-3fa90bca583b"
      },
      "execution_count": 29,
      "outputs": [
        {
          "output_type": "execute_result",
          "data": {
            "text/plain": [
              "                                            Produto  Quantidade Unidade  \\\n",
              "263             CEBOLA NACIONAL kg (Código: 10226 )       0.615      KG   \n",
              "264       LING MISTA FINA SADIA kg (Código: 12153 )       0.384      KG   \n",
              "265             TOMATE ITALIANO kg (Código: 26992 )       0.330      KG   \n",
              "266              PIMENTAO VERDE kg (Código: 10214 )       0.125      KG   \n",
              "267  SACOLA RECICLAVEL 7kg UN VERDE (Código: 9813 )       1.000      UN   \n",
              "268  SACOLA RECICLAVEL 7kg UN VERDE (Código: 9813 )       1.000      UN   \n",
              "269  SACOLA RECICLAVEL 7kg UN VERDE (Código: 9813 )       1.000      UN   \n",
              "270  SACOLA RECICLAVEL 7kg UN VERDE (Código: 9813 )       1.000      UN   \n",
              "271  SACOLA RECICLAVEL 7kg UN VERDE (Código: 9813 )       1.000      UN   \n",
              "272  SACOLA RECICLAVEL 7kg UN VERDE (Código: 9813 )       1.000      UN   \n",
              "\n",
              "     Valor Unitário  Valor Total Data das Compras     Nome do mercado  \\\n",
              "263            4.99      3.06885       2025-07-31  Supermarket(Merck)   \n",
              "264           23.98      9.20832       2025-07-31  Supermarket(Merck)   \n",
              "265           12.99      4.28670       2025-07-31  Supermarket(Merck)   \n",
              "266           15.99      1.99875       2025-07-31  Supermarket(Merck)   \n",
              "267            0.09      0.09000       2025-07-31  Supermarket(Merck)   \n",
              "268            0.09      0.09000       2025-07-31  Supermarket(Merck)   \n",
              "269            0.09      0.09000       2025-07-31  Supermarket(Merck)   \n",
              "270            0.09      0.09000       2025-07-31  Supermarket(Merck)   \n",
              "271            0.09      0.09000       2025-07-31  Supermarket(Merck)   \n",
              "272            0.09      0.09000       2025-07-31  Supermarket(Merck)   \n",
              "\n",
              "                                       Chave NFCe  \n",
              "263  33250707760885001652656160001698831989696521  \n",
              "264  33250707760885001652656160001698831989696521  \n",
              "265  33250707760885001652656160001698831989696521  \n",
              "266  33250707760885001652656160001698831989696521  \n",
              "267  33250707760885001652656160001698831989696521  \n",
              "268  33250707760885001652656160001698831989696521  \n",
              "269  33250707760885001652656160001698831989696521  \n",
              "270  33250707760885001652656160001698831989696521  \n",
              "271  33250707760885001652656160001698831989696521  \n",
              "272  33250707760885001652656160001698831989696521  "
            ],
            "text/html": [
              "\n",
              "  <div id=\"df-d7751ccd-2c55-4a92-a511-123274fbfbaa\" class=\"colab-df-container\">\n",
              "    <div>\n",
              "<style scoped>\n",
              "    .dataframe tbody tr th:only-of-type {\n",
              "        vertical-align: middle;\n",
              "    }\n",
              "\n",
              "    .dataframe tbody tr th {\n",
              "        vertical-align: top;\n",
              "    }\n",
              "\n",
              "    .dataframe thead th {\n",
              "        text-align: right;\n",
              "    }\n",
              "</style>\n",
              "<table border=\"1\" class=\"dataframe\">\n",
              "  <thead>\n",
              "    <tr style=\"text-align: right;\">\n",
              "      <th></th>\n",
              "      <th>Produto</th>\n",
              "      <th>Quantidade</th>\n",
              "      <th>Unidade</th>\n",
              "      <th>Valor Unitário</th>\n",
              "      <th>Valor Total</th>\n",
              "      <th>Data das Compras</th>\n",
              "      <th>Nome do mercado</th>\n",
              "      <th>Chave NFCe</th>\n",
              "    </tr>\n",
              "  </thead>\n",
              "  <tbody>\n",
              "    <tr>\n",
              "      <th>263</th>\n",
              "      <td>CEBOLA NACIONAL kg (Código: 10226 )</td>\n",
              "      <td>0.615</td>\n",
              "      <td>KG</td>\n",
              "      <td>4.99</td>\n",
              "      <td>3.06885</td>\n",
              "      <td>2025-07-31</td>\n",
              "      <td>Supermarket(Merck)</td>\n",
              "      <td>33250707760885001652656160001698831989696521</td>\n",
              "    </tr>\n",
              "    <tr>\n",
              "      <th>264</th>\n",
              "      <td>LING MISTA FINA SADIA kg (Código: 12153 )</td>\n",
              "      <td>0.384</td>\n",
              "      <td>KG</td>\n",
              "      <td>23.98</td>\n",
              "      <td>9.20832</td>\n",
              "      <td>2025-07-31</td>\n",
              "      <td>Supermarket(Merck)</td>\n",
              "      <td>33250707760885001652656160001698831989696521</td>\n",
              "    </tr>\n",
              "    <tr>\n",
              "      <th>265</th>\n",
              "      <td>TOMATE ITALIANO kg (Código: 26992 )</td>\n",
              "      <td>0.330</td>\n",
              "      <td>KG</td>\n",
              "      <td>12.99</td>\n",
              "      <td>4.28670</td>\n",
              "      <td>2025-07-31</td>\n",
              "      <td>Supermarket(Merck)</td>\n",
              "      <td>33250707760885001652656160001698831989696521</td>\n",
              "    </tr>\n",
              "    <tr>\n",
              "      <th>266</th>\n",
              "      <td>PIMENTAO VERDE kg (Código: 10214 )</td>\n",
              "      <td>0.125</td>\n",
              "      <td>KG</td>\n",
              "      <td>15.99</td>\n",
              "      <td>1.99875</td>\n",
              "      <td>2025-07-31</td>\n",
              "      <td>Supermarket(Merck)</td>\n",
              "      <td>33250707760885001652656160001698831989696521</td>\n",
              "    </tr>\n",
              "    <tr>\n",
              "      <th>267</th>\n",
              "      <td>SACOLA RECICLAVEL 7kg UN VERDE (Código: 9813 )</td>\n",
              "      <td>1.000</td>\n",
              "      <td>UN</td>\n",
              "      <td>0.09</td>\n",
              "      <td>0.09000</td>\n",
              "      <td>2025-07-31</td>\n",
              "      <td>Supermarket(Merck)</td>\n",
              "      <td>33250707760885001652656160001698831989696521</td>\n",
              "    </tr>\n",
              "    <tr>\n",
              "      <th>268</th>\n",
              "      <td>SACOLA RECICLAVEL 7kg UN VERDE (Código: 9813 )</td>\n",
              "      <td>1.000</td>\n",
              "      <td>UN</td>\n",
              "      <td>0.09</td>\n",
              "      <td>0.09000</td>\n",
              "      <td>2025-07-31</td>\n",
              "      <td>Supermarket(Merck)</td>\n",
              "      <td>33250707760885001652656160001698831989696521</td>\n",
              "    </tr>\n",
              "    <tr>\n",
              "      <th>269</th>\n",
              "      <td>SACOLA RECICLAVEL 7kg UN VERDE (Código: 9813 )</td>\n",
              "      <td>1.000</td>\n",
              "      <td>UN</td>\n",
              "      <td>0.09</td>\n",
              "      <td>0.09000</td>\n",
              "      <td>2025-07-31</td>\n",
              "      <td>Supermarket(Merck)</td>\n",
              "      <td>33250707760885001652656160001698831989696521</td>\n",
              "    </tr>\n",
              "    <tr>\n",
              "      <th>270</th>\n",
              "      <td>SACOLA RECICLAVEL 7kg UN VERDE (Código: 9813 )</td>\n",
              "      <td>1.000</td>\n",
              "      <td>UN</td>\n",
              "      <td>0.09</td>\n",
              "      <td>0.09000</td>\n",
              "      <td>2025-07-31</td>\n",
              "      <td>Supermarket(Merck)</td>\n",
              "      <td>33250707760885001652656160001698831989696521</td>\n",
              "    </tr>\n",
              "    <tr>\n",
              "      <th>271</th>\n",
              "      <td>SACOLA RECICLAVEL 7kg UN VERDE (Código: 9813 )</td>\n",
              "      <td>1.000</td>\n",
              "      <td>UN</td>\n",
              "      <td>0.09</td>\n",
              "      <td>0.09000</td>\n",
              "      <td>2025-07-31</td>\n",
              "      <td>Supermarket(Merck)</td>\n",
              "      <td>33250707760885001652656160001698831989696521</td>\n",
              "    </tr>\n",
              "    <tr>\n",
              "      <th>272</th>\n",
              "      <td>SACOLA RECICLAVEL 7kg UN VERDE (Código: 9813 )</td>\n",
              "      <td>1.000</td>\n",
              "      <td>UN</td>\n",
              "      <td>0.09</td>\n",
              "      <td>0.09000</td>\n",
              "      <td>2025-07-31</td>\n",
              "      <td>Supermarket(Merck)</td>\n",
              "      <td>33250707760885001652656160001698831989696521</td>\n",
              "    </tr>\n",
              "  </tbody>\n",
              "</table>\n",
              "</div>\n",
              "    <div class=\"colab-df-buttons\">\n",
              "\n",
              "  <div class=\"colab-df-container\">\n",
              "    <button class=\"colab-df-convert\" onclick=\"convertToInteractive('df-d7751ccd-2c55-4a92-a511-123274fbfbaa')\"\n",
              "            title=\"Convert this dataframe to an interactive table.\"\n",
              "            style=\"display:none;\">\n",
              "\n",
              "  <svg xmlns=\"http://www.w3.org/2000/svg\" height=\"24px\" viewBox=\"0 -960 960 960\">\n",
              "    <path d=\"M120-120v-720h720v720H120Zm60-500h600v-160H180v160Zm220 220h160v-160H400v160Zm0 220h160v-160H400v160ZM180-400h160v-160H180v160Zm440 0h160v-160H620v160ZM180-180h160v-160H180v160Zm440 0h160v-160H620v160Z\"/>\n",
              "  </svg>\n",
              "    </button>\n",
              "\n",
              "  <style>\n",
              "    .colab-df-container {\n",
              "      display:flex;\n",
              "      gap: 12px;\n",
              "    }\n",
              "\n",
              "    .colab-df-convert {\n",
              "      background-color: #E8F0FE;\n",
              "      border: none;\n",
              "      border-radius: 50%;\n",
              "      cursor: pointer;\n",
              "      display: none;\n",
              "      fill: #1967D2;\n",
              "      height: 32px;\n",
              "      padding: 0 0 0 0;\n",
              "      width: 32px;\n",
              "    }\n",
              "\n",
              "    .colab-df-convert:hover {\n",
              "      background-color: #E2EBFA;\n",
              "      box-shadow: 0px 1px 2px rgba(60, 64, 67, 0.3), 0px 1px 3px 1px rgba(60, 64, 67, 0.15);\n",
              "      fill: #174EA6;\n",
              "    }\n",
              "\n",
              "    .colab-df-buttons div {\n",
              "      margin-bottom: 4px;\n",
              "    }\n",
              "\n",
              "    [theme=dark] .colab-df-convert {\n",
              "      background-color: #3B4455;\n",
              "      fill: #D2E3FC;\n",
              "    }\n",
              "\n",
              "    [theme=dark] .colab-df-convert:hover {\n",
              "      background-color: #434B5C;\n",
              "      box-shadow: 0px 1px 3px 1px rgba(0, 0, 0, 0.15);\n",
              "      filter: drop-shadow(0px 1px 2px rgba(0, 0, 0, 0.3));\n",
              "      fill: #FFFFFF;\n",
              "    }\n",
              "  </style>\n",
              "\n",
              "    <script>\n",
              "      const buttonEl =\n",
              "        document.querySelector('#df-d7751ccd-2c55-4a92-a511-123274fbfbaa button.colab-df-convert');\n",
              "      buttonEl.style.display =\n",
              "        google.colab.kernel.accessAllowed ? 'block' : 'none';\n",
              "\n",
              "      async function convertToInteractive(key) {\n",
              "        const element = document.querySelector('#df-d7751ccd-2c55-4a92-a511-123274fbfbaa');\n",
              "        const dataTable =\n",
              "          await google.colab.kernel.invokeFunction('convertToInteractive',\n",
              "                                                    [key], {});\n",
              "        if (!dataTable) return;\n",
              "\n",
              "        const docLinkHtml = 'Like what you see? Visit the ' +\n",
              "          '<a target=\"_blank\" href=https://colab.research.google.com/notebooks/data_table.ipynb>data table notebook</a>'\n",
              "          + ' to learn more about interactive tables.';\n",
              "        element.innerHTML = '';\n",
              "        dataTable['output_type'] = 'display_data';\n",
              "        await google.colab.output.renderOutput(dataTable, element);\n",
              "        const docLink = document.createElement('div');\n",
              "        docLink.innerHTML = docLinkHtml;\n",
              "        element.appendChild(docLink);\n",
              "      }\n",
              "    </script>\n",
              "  </div>\n",
              "\n",
              "\n",
              "    <div id=\"df-ddec6725-01b6-4408-bf17-19f5ef96d948\">\n",
              "      <button class=\"colab-df-quickchart\" onclick=\"quickchart('df-ddec6725-01b6-4408-bf17-19f5ef96d948')\"\n",
              "                title=\"Suggest charts\"\n",
              "                style=\"display:none;\">\n",
              "\n",
              "<svg xmlns=\"http://www.w3.org/2000/svg\" height=\"24px\"viewBox=\"0 0 24 24\"\n",
              "     width=\"24px\">\n",
              "    <g>\n",
              "        <path d=\"M19 3H5c-1.1 0-2 .9-2 2v14c0 1.1.9 2 2 2h14c1.1 0 2-.9 2-2V5c0-1.1-.9-2-2-2zM9 17H7v-7h2v7zm4 0h-2V7h2v10zm4 0h-2v-4h2v4z\"/>\n",
              "    </g>\n",
              "</svg>\n",
              "      </button>\n",
              "\n",
              "<style>\n",
              "  .colab-df-quickchart {\n",
              "      --bg-color: #E8F0FE;\n",
              "      --fill-color: #1967D2;\n",
              "      --hover-bg-color: #E2EBFA;\n",
              "      --hover-fill-color: #174EA6;\n",
              "      --disabled-fill-color: #AAA;\n",
              "      --disabled-bg-color: #DDD;\n",
              "  }\n",
              "\n",
              "  [theme=dark] .colab-df-quickchart {\n",
              "      --bg-color: #3B4455;\n",
              "      --fill-color: #D2E3FC;\n",
              "      --hover-bg-color: #434B5C;\n",
              "      --hover-fill-color: #FFFFFF;\n",
              "      --disabled-bg-color: #3B4455;\n",
              "      --disabled-fill-color: #666;\n",
              "  }\n",
              "\n",
              "  .colab-df-quickchart {\n",
              "    background-color: var(--bg-color);\n",
              "    border: none;\n",
              "    border-radius: 50%;\n",
              "    cursor: pointer;\n",
              "    display: none;\n",
              "    fill: var(--fill-color);\n",
              "    height: 32px;\n",
              "    padding: 0;\n",
              "    width: 32px;\n",
              "  }\n",
              "\n",
              "  .colab-df-quickchart:hover {\n",
              "    background-color: var(--hover-bg-color);\n",
              "    box-shadow: 0 1px 2px rgba(60, 64, 67, 0.3), 0 1px 3px 1px rgba(60, 64, 67, 0.15);\n",
              "    fill: var(--button-hover-fill-color);\n",
              "  }\n",
              "\n",
              "  .colab-df-quickchart-complete:disabled,\n",
              "  .colab-df-quickchart-complete:disabled:hover {\n",
              "    background-color: var(--disabled-bg-color);\n",
              "    fill: var(--disabled-fill-color);\n",
              "    box-shadow: none;\n",
              "  }\n",
              "\n",
              "  .colab-df-spinner {\n",
              "    border: 2px solid var(--fill-color);\n",
              "    border-color: transparent;\n",
              "    border-bottom-color: var(--fill-color);\n",
              "    animation:\n",
              "      spin 1s steps(1) infinite;\n",
              "  }\n",
              "\n",
              "  @keyframes spin {\n",
              "    0% {\n",
              "      border-color: transparent;\n",
              "      border-bottom-color: var(--fill-color);\n",
              "      border-left-color: var(--fill-color);\n",
              "    }\n",
              "    20% {\n",
              "      border-color: transparent;\n",
              "      border-left-color: var(--fill-color);\n",
              "      border-top-color: var(--fill-color);\n",
              "    }\n",
              "    30% {\n",
              "      border-color: transparent;\n",
              "      border-left-color: var(--fill-color);\n",
              "      border-top-color: var(--fill-color);\n",
              "      border-right-color: var(--fill-color);\n",
              "    }\n",
              "    40% {\n",
              "      border-color: transparent;\n",
              "      border-right-color: var(--fill-color);\n",
              "      border-top-color: var(--fill-color);\n",
              "    }\n",
              "    60% {\n",
              "      border-color: transparent;\n",
              "      border-right-color: var(--fill-color);\n",
              "    }\n",
              "    80% {\n",
              "      border-color: transparent;\n",
              "      border-right-color: var(--fill-color);\n",
              "      border-bottom-color: var(--fill-color);\n",
              "    }\n",
              "    90% {\n",
              "      border-color: transparent;\n",
              "      border-bottom-color: var(--fill-color);\n",
              "    }\n",
              "  }\n",
              "</style>\n",
              "\n",
              "      <script>\n",
              "        async function quickchart(key) {\n",
              "          const quickchartButtonEl =\n",
              "            document.querySelector('#' + key + ' button');\n",
              "          quickchartButtonEl.disabled = true;  // To prevent multiple clicks.\n",
              "          quickchartButtonEl.classList.add('colab-df-spinner');\n",
              "          try {\n",
              "            const charts = await google.colab.kernel.invokeFunction(\n",
              "                'suggestCharts', [key], {});\n",
              "          } catch (error) {\n",
              "            console.error('Error during call to suggestCharts:', error);\n",
              "          }\n",
              "          quickchartButtonEl.classList.remove('colab-df-spinner');\n",
              "          quickchartButtonEl.classList.add('colab-df-quickchart-complete');\n",
              "        }\n",
              "        (() => {\n",
              "          let quickchartButtonEl =\n",
              "            document.querySelector('#df-ddec6725-01b6-4408-bf17-19f5ef96d948 button');\n",
              "          quickchartButtonEl.style.display =\n",
              "            google.colab.kernel.accessAllowed ? 'block' : 'none';\n",
              "        })();\n",
              "      </script>\n",
              "    </div>\n",
              "\n",
              "    </div>\n",
              "  </div>\n"
            ],
            "application/vnd.google.colaboratory.intrinsic+json": {
              "type": "dataframe",
              "summary": "{\n  \"name\": \"dfCompras\",\n  \"rows\": 10,\n  \"fields\": [\n    {\n      \"column\": \"Produto\",\n      \"properties\": {\n        \"dtype\": \"string\",\n        \"num_unique_values\": 5,\n        \"samples\": [\n          \"LING MISTA FINA SADIA kg\\u00a0(C\\u00f3digo: 12153 )\",\n          \"SACOLA RECICLAVEL 7kg UN VERDE\\u00a0(C\\u00f3digo: 9813 )\",\n          \"TOMATE ITALIANO kg\\u00a0(C\\u00f3digo: 26992 )\"\n        ],\n        \"semantic_type\": \"\",\n        \"description\": \"\"\n      }\n    },\n    {\n      \"column\": \"Quantidade\",\n      \"properties\": {\n        \"dtype\": \"number\",\n        \"std\": 0.34864729072994866,\n        \"min\": 0.125,\n        \"max\": 1.0,\n        \"num_unique_values\": 5,\n        \"samples\": [\n          0.384,\n          1.0,\n          0.33\n        ],\n        \"semantic_type\": \"\",\n        \"description\": \"\"\n      }\n    },\n    {\n      \"column\": \"Unidade\",\n      \"properties\": {\n        \"dtype\": \"category\",\n        \"num_unique_values\": 2,\n        \"samples\": [\n          \"UN\",\n          \"KG\"\n        ],\n        \"semantic_type\": \"\",\n        \"description\": \"\"\n      }\n    },\n    {\n      \"column\": \"Valor Unit\\u00e1rio\",\n      \"properties\": {\n        \"dtype\": \"number\",\n        \"std\": 8.706965857544436,\n        \"min\": 0.09,\n        \"max\": 23.98,\n        \"num_unique_values\": 5,\n        \"samples\": [\n          23.98,\n          0.09\n        ],\n        \"semantic_type\": \"\",\n        \"description\": \"\"\n      }\n    },\n    {\n      \"column\": \"Valor Total\",\n      \"properties\": {\n        \"dtype\": \"number\",\n        \"std\": 2.9840201613662063,\n        \"min\": 0.09,\n        \"max\": 9.20832,\n        \"num_unique_values\": 5,\n        \"samples\": [\n          9.20832,\n          0.09\n        ],\n        \"semantic_type\": \"\",\n        \"description\": \"\"\n      }\n    },\n    {\n      \"column\": \"Data das Compras\",\n      \"properties\": {\n        \"dtype\": \"date\",\n        \"min\": \"2025-07-31 00:00:00\",\n        \"max\": \"2025-07-31 00:00:00\",\n        \"num_unique_values\": 1,\n        \"samples\": [\n          \"2025-07-31 00:00:00\"\n        ],\n        \"semantic_type\": \"\",\n        \"description\": \"\"\n      }\n    },\n    {\n      \"column\": \"Nome do mercado\",\n      \"properties\": {\n        \"dtype\": \"category\",\n        \"num_unique_values\": 1,\n        \"samples\": [\n          \"Supermarket(Merck)\"\n        ],\n        \"semantic_type\": \"\",\n        \"description\": \"\"\n      }\n    },\n    {\n      \"column\": \"Chave NFCe\",\n      \"properties\": {\n        \"dtype\": \"category\",\n        \"num_unique_values\": 1,\n        \"samples\": [\n          \"33250707760885001652656160001698831989696521\"\n        ],\n        \"semantic_type\": \"\",\n        \"description\": \"\"\n      }\n    }\n  ]\n}"
            }
          },
          "metadata": {},
          "execution_count": 29
        }
      ]
    },
    {
      "cell_type": "code",
      "source": [],
      "metadata": {
        "id": "RzV48Qr1EbUU"
      },
      "execution_count": 25,
      "outputs": []
    },
    {
      "cell_type": "code",
      "source": [],
      "metadata": {
        "id": "hT19F4UYEe6L"
      },
      "execution_count": 25,
      "outputs": []
    }
  ]
}